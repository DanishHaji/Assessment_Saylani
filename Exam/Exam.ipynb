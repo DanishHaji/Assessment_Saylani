{
 "cells": [
  {
   "cell_type": "markdown",
   "id": "8eac97a8",
   "metadata": {},
   "source": [
    "# Question:1 File Analysis and Word Search"
   ]
  },
  {
   "cell_type": "code",
   "execution_count": 11,
   "id": "64f1fcfe",
   "metadata": {},
   "outputs": [],
   "source": [
    "def analyze_file(file_name):\n",
    "    file_name = 'file_name.txt'\n",
    "    try:\n",
    "        with open(file_name, 'r',) as file:\n",
    "            content = file.read()\n",
    "            num_characters = len(content)\n",
    "            num_words = len(content.split())\n",
    "            num_lines = len(content.splitlines())\n",
    "            \n",
    "            return {\n",
    "                'characters': num_characters,\n",
    "                'words': num_words,\n",
    "                'lines': num_lines\n",
    "            }\n",
    "    except FileNotFoundError:\n",
    "        return {'error': f\"File '{file_name}' not found.\"}\n",
    "    except Exception as e:\n",
    "        return {'error': str(e)}\n",
    "\n",
    "\n",
    "def search_word(file_name, word):\n",
    "    try:\n",
    "        with open(file_name, 'r', encoding='utf-8') as file:\n",
    "            content = file.read()\n",
    "            word_count = content.lower().split().count(word.lower())\n",
    "            return word_count\n",
    "    except FileNotFoundError:\n",
    "        return {'error': f\"File '{file_name}' not found.\"}\n",
    "    except Exception as e:\n",
    "        return {'error': str(e)}\n",
    "\n",
    "analysis = analyze_file('file_name.txt')\n",
    "word_count = search_word('file_name', 'someword')"
   ]
  },
  {
   "cell_type": "code",
   "execution_count": 12,
   "id": "63bce4e5",
   "metadata": {},
   "outputs": [
    {
     "data": {
      "text/plain": [
       "{'characters': 834, 'words': 153, 'lines': 3}"
      ]
     },
     "execution_count": 12,
     "metadata": {},
     "output_type": "execute_result"
    }
   ],
   "source": [
    "analyze_file('file_name.txt')"
   ]
  },
  {
   "cell_type": "code",
   "execution_count": 14,
   "id": "29525712",
   "metadata": {},
   "outputs": [
    {
     "data": {
      "text/plain": [
       "7"
      ]
     },
     "execution_count": 14,
     "metadata": {},
     "output_type": "execute_result"
    }
   ],
   "source": [
    "search_word('file_name.txt', 'a')"
   ]
  },
  {
   "cell_type": "markdown",
   "id": "fb428eb3",
   "metadata": {},
   "source": [
    "# Question No 2: Library Management System using Python OOP"
   ]
  },
  {
   "cell_type": "code",
   "execution_count": 15,
   "id": "683926ad",
   "metadata": {},
   "outputs": [
    {
     "name": "stdout",
     "output_type": "stream",
     "text": [
      "Added 'The Great Gatsby' to the library.\n",
      "Added 'Digital Marketing 101' to the library.\n",
      "Added 'Learn Python' to the library.\n",
      "Registered user: Alice\n",
      "You have borrowed 'The Great Gatsby' by F. Scott Fitzgerald.\n",
      "You have borrowed 'Digital Marketing 101' by Jane Doe.\n",
      "You have borrowed 'Learn Python' by John Smith.\n",
      "Alice's borrowed books: ['The Great Gatsby', 'Digital Marketing 101', 'Learn Python']\n",
      "You have returned 'The Great Gatsby'.\n",
      "Alice's borrowed books after return: ['Digital Marketing 101', 'Learn Python']\n"
     ]
    }
   ],
   "source": [
    "class Book:\n",
    "    def __init__(self, title, author, isbn):\n",
    "        self.title = title\n",
    "        self.author = author\n",
    "        self.isbn = isbn\n",
    "        self.is_borrowed = False\n",
    "\n",
    "    def borrow(self):\n",
    "        if not self.is_borrowed:\n",
    "            self.is_borrowed = True\n",
    "            print(f\"You have borrowed '{self.title}' by {self.author}.\")\n",
    "        else:\n",
    "            print(f\"'{self.title}' is already borrowed.\")\n",
    "\n",
    "    def return_book(self):\n",
    "        self.is_borrowed = False\n",
    "        print(f\"You have returned '{self.title}'.\")\n",
    "\n",
    "class DigitalBook(Book):\n",
    "    def __init__(self, title, author, isbn, file_format):\n",
    "        super().__init__(title, author, isbn)\n",
    "        self.file_format = file_format\n",
    "\n",
    "    def borrow(self):\n",
    "        super().borrow()\n",
    "        if not self.is_borrowed:\n",
    "            print(\"This digital book can be accessed online.\")\n",
    "\n",
    "class AudioBook(Book):\n",
    "    def __init__(self, title, author, isbn, duration):\n",
    "        super().__init__(title, author, isbn)\n",
    "        self.duration = duration\n",
    "\n",
    "    def borrow(self):\n",
    "        super().borrow()\n",
    "        if not self.is_borrowed:\n",
    "            print(\"This audiobook is available for streaming.\")\n",
    "\n",
    "class User:\n",
    "    def __init__(self, user_id, name):\n",
    "        self.user_id = user_id\n",
    "        self.name = name\n",
    "        self._borrowed_books = []\n",
    "\n",
    "    def borrow_book(self, book):\n",
    "        if not book.is_borrowed:\n",
    "            book.borrow()\n",
    "            self._borrowed_books.append(book)\n",
    "        else:\n",
    "            print(f\"Sorry, '{book.title}' is currently unavailable.\")\n",
    "\n",
    "    def return_book(self, book):\n",
    "        if book in self._borrowed_books:\n",
    "            book.return_book()\n",
    "            self._borrowed_books.remove(book)\n",
    "        else:\n",
    "            print(f\"You haven't borrowed '{book.title}'.\")\n",
    "\n",
    "    def get_borrowed_books(self):\n",
    "        return [book.title for book in self._borrowed_books]\n",
    "\n",
    "class Library:\n",
    "    def __init__(self, name):\n",
    "        self.name = name\n",
    "        self.books = []\n",
    "        self.users = []\n",
    "\n",
    "    def add_book(self, book):\n",
    "        self.books.append(book)\n",
    "        print(f\"Added '{book.title}' to the library.\")\n",
    "\n",
    "    def register_user(self, user):\n",
    "        self.users.append(user)\n",
    "        print(f\"Registered user: {user.name}\")\n",
    "\n",
    "    def lend_book(self, user_id, isbn):\n",
    "        user = next((u for u in self.users if u.user_id == user_id), None)\n",
    "        book = next((b for b in self.books if b.isbn == isbn), None)\n",
    "\n",
    "        if user and book:\n",
    "            user.borrow_book(book)\n",
    "        else:\n",
    "            print(\"User or book not found.\")\n",
    "\n",
    "    def receive_return(self, user_id, isbn):\n",
    "        user = next((u for u in self.users if u.user_id == user_id), None)\n",
    "        book = next((b for b in self.books if b.isbn == isbn), None)\n",
    "\n",
    "        if user and book:\n",
    "            user.return_book(book)\n",
    "        else:\n",
    "            print(\"User or book not found.\")\n",
    "\n",
    "\n",
    "library = Library(\"My Local Library\")\n",
    "\n",
    "# Adding books in library\n",
    "\n",
    "book1 = Book(\"The Great Gatsby\", \"F. Scott Fitzgerald\", \"123456789\")\n",
    "digital_book1 = DigitalBook(\"Digital Marketing 101\", \"Jane Doe\", \"987654321\", \"PDF\")\n",
    "audio_book1 = AudioBook(\"Learn Python\", \"John Smith\", \"123456780\", 10.5)\n",
    "\n",
    "library.add_book(book1)\n",
    "library.add_book(digital_book1)\n",
    "library.add_book(audio_book1)\n",
    "\n",
    "# Registering users in library\n",
    "\n",
    "user1 = User(\"U001\", \"Alice\")\n",
    "library.register_user(user1)\n",
    "\n",
    "# Borrowing and returning books\n",
    "\n",
    "library.lend_book(\"U001\", \"123456789\")  # Borrow physical book\n",
    "library.lend_book(\"U001\", \"987654321\")  # Borrow digital book\n",
    "library.lend_book(\"U001\", \"123456780\")  # Borrow audiobook\n",
    "\n",
    "print(\"Alice's borrowed books:\", user1.get_borrowed_books())\n",
    "\n",
    "library.receive_return(\"U001\", \"123456789\")  # Return physical book\n",
    "print(\"Alice's borrowed books after return:\", user1.get_borrowed_books())\n"
   ]
  },
  {
   "cell_type": "code",
   "execution_count": null,
   "id": "fa471f54",
   "metadata": {},
   "outputs": [],
   "source": []
  }
 ],
 "metadata": {
  "kernelspec": {
   "display_name": "Python 3 (ipykernel)",
   "language": "python",
   "name": "python3"
  },
  "language_info": {
   "codemirror_mode": {
    "name": "ipython",
    "version": 3
   },
   "file_extension": ".py",
   "mimetype": "text/x-python",
   "name": "python",
   "nbconvert_exporter": "python",
   "pygments_lexer": "ipython3",
   "version": "3.11.5"
  }
 },
 "nbformat": 4,
 "nbformat_minor": 5
}
